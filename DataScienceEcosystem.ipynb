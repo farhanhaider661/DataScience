{
 "cells": [
  {
   "cell_type": "markdown",
   "id": "6f61530e",
   "metadata": {},
   "source": [
    "# Data Science Tools and Ecosystem"
   ]
  },
  {
   "cell_type": "markdown",
   "id": "5f4efb2a",
   "metadata": {},
   "source": [
    "In this notebook, Data Science Tools and Ecosystem are summarized."
   ]
  },
  {
   "cell_type": "markdown",
   "id": "69c2871d",
   "metadata": {},
   "source": [
    "**Objectives:**\n",
    "\n",
    "- List popular languages for Data Science.\n",
    "- Introduce commonly used libraries for Data Science.\n",
    "- Demonstrate arithmetic expression examples in Python.\n",
    "- Convert minutes to hours using Python.\n"
   ]
  },
  {
   "cell_type": "markdown",
   "id": "3450b233",
   "metadata": {},
   "source": [
    "Some of the popular languages that Data Scientists use are:\n",
    "1. R\n",
    "2. Python\n",
    "3. SQL\n",
    "4. julia\n"
   ]
  },
  {
   "cell_type": "markdown",
   "id": "1681eeb3",
   "metadata": {},
   "source": [
    "Some of the commonly used libraries used by Data Scientists include:\n",
    "1. Numpy\n",
    "2. Pandas\n",
    "3. Seaborn\n",
    "4. TensorFlow"
   ]
  },
  {
   "cell_type": "markdown",
   "id": "4d20a15d",
   "metadata": {},
   "source": [
    "| Data Science Tools   |\n",
    "| -------------------- |\n",
    "| Jupyter Notebook     |\n",
    "| RStudio              |\n",
    "| VS Code with Python  |\n"
   ]
  },
  {
   "cell_type": "markdown",
   "id": "b307aa69",
   "metadata": {},
   "source": [
    "### Below are a few examples of evaluating arithmetic expressions in Python.\n",
    "\n",
    "\n"
   ]
  },
  {
   "cell_type": "code",
   "execution_count": 4,
   "id": "c294090b",
   "metadata": {},
   "outputs": [
    {
     "name": "stdout",
     "output_type": "stream",
     "text": [
      "17\n"
     ]
    }
   ],
   "source": [
    "# This a simple arithmetic expression to mutiply then add integers\n",
    "result = (3*4)+5\n",
    "print(result)  \n"
   ]
  },
  {
   "cell_type": "code",
   "execution_count": 5,
   "id": "4dce6f54",
   "metadata": {},
   "outputs": [
    {
     "name": "stdout",
     "output_type": "stream",
     "text": [
      "3.3333333333333335\n"
     ]
    }
   ],
   "source": [
    "# This will convert 200 minutes to hours by diving by 60\n",
    "minutes = 200\n",
    "hours = minutes / 60\n",
    "print(hours) \n"
   ]
  },
  {
   "cell_type": "markdown",
   "id": "ca0b39ca",
   "metadata": {},
   "source": [
    "## Author\n",
    "Farhan Haider"
   ]
  },
  {
   "cell_type": "code",
   "execution_count": null,
   "id": "44361e41",
   "metadata": {},
   "outputs": [],
   "source": []
  }
 ],
 "metadata": {
  "kernelspec": {
   "display_name": "Python 3 (ipykernel)",
   "language": "python",
   "name": "python3"
  },
  "language_info": {
   "codemirror_mode": {
    "name": "ipython",
    "version": 3
   },
   "file_extension": ".py",
   "mimetype": "text/x-python",
   "name": "python",
   "nbconvert_exporter": "python",
   "pygments_lexer": "ipython3",
   "version": "3.9.13"
  }
 },
 "nbformat": 4,
 "nbformat_minor": 5
}
